{
 "cells": [
  {
   "cell_type": "code",
   "execution_count": 9,
   "metadata": {},
   "outputs": [],
   "source": [
    "import re\n",
    "import numpy as np\n",
    "import matplotlib.pyplot as plt\n",
    "import pyperclip "
   ]
  },
  {
   "cell_type": "code",
   "execution_count": 10,
   "metadata": {},
   "outputs": [],
   "source": [
    "text = r''' \n",
    "Just as we can combine different vectors to give one, we can do the reverse and split one vector in many parts. The most useful way to do this splitting is by doing this split in two perpendicular directions as shown in \\fref{fig:vectorComponents}.'''\n",
    "\n"
   ]
  },
  {
   "cell_type": "code",
   "execution_count": 23,
   "metadata": {},
   "outputs": [
    {
     "name": "stdout",
     "output_type": "stream",
     "text": [
      "Since wave function is complex, it cannot be measured. However, remember that the modulus or the absolute value of a complex number (i.e. $|z|$) is *always* real and non-negative. This lead [Max Born](https://en.wikipedia.org/wiki/Max_Born) to offer the following 'operational' interpretation of the wave function.\n",
      "\n",
      "\n",
      "$\\Psi(x,t)$ is related to reality (i.e. to measurements or observations) via `r me.hi(\"*Born's statistical interpretation*'\")`:\n",
      "\n",
      "\n",
      "\\begin{equation}\n",
      "\\int_a^b \\left| \\Psi(x,t)\\right|^2 \\,dx = \\left \\{\\begin{array}{l}\\text{\\small probability of finding the particle}  \\\\ \\text{\\small between $a$ and $b$, at time $t$} \\end{array} \\right.\n",
      "\\end{equation}\n",
      "\n",
      "\n",
      "Notice how the square of the modulus($|\\Psi|^{2}$) of the wave function *plays the role of a probability density function*'. With this interpretation, we can make predictions using the wave function about reality. For example, the particle in figure~\\ref{fig:interpretingPsi} has the greatest probability of being observed around the point $A$ and *never* around point $B$. The whole edifice of quantum mechanics is built atop Born's interpretation. Quantum mechanics has been described as is 'quantum cookery'. This is one of the most crucial steps of that recipe.\n"
     ]
    }
   ],
   "source": [
    "rep_list = np.array([\n",
    "    [r'`','\\''],\n",
    "    [r'\\\\q{([^}]*)}', '`r me.hi(\"\\\\1\")`'],\n",
    "    [r'\\\\q\\[+\\]{([^}]*)}', '`r me.hi(\"\\\\1\")`'],\n",
    "    [r'\\\\emph{([^}]*)}', '*\\\\1*'],\n",
    "    [r'\\\\fref{([^}]*)}', 'figure \\\\@ref(fig:\\\\1)'],\n",
    "    [r'\\\\section{([^}]*)}', '## \\\\1'],\n",
    "    [r'\\\\subsection{([^}]*)}', '## \\\\1'],\n",
    "    [r'\\\\df{([^}]*)}', '`r me.def(\"\\\\1\")`'],\n",
    "    [r'%([^-]*)-', '<!'],\n",
    "    [r'\\\\sidenote{([^}]*)}', '^[\\\\1]'],\n",
    "    [r'\\\\begin{marginfigure}', '```{r, fig.cap=\"\"}'],\n",
    "    [r'\\\\end{marginfigure}', '```'],\n",
    "    [r'\\\\label{([^}]*)}', '(\\\\1)'],\n",
    "    [r'\\\\ldots','$\\\\ldots$'],\n",
    "    [r'\\\\item','* '],\n",
    "    [r'\\\\vec','\\\\\\\\v']\n",
    "#    [r'{([^}]*}', '(\\\\1)']\n",
    "])\n",
    "\n",
    "rst =  pyperclip.paste()\n",
    "\n",
    "for i in rep_list:\n",
    "    rst = re.sub(i[0],i[1],rst)\n",
    "\n",
    "pyperclip.copy(rst)\n",
    "print(rst)"
   ]
  },
  {
   "cell_type": "markdown",
   "metadata": {},
   "source": [
    "### high"
   ]
  },
  {
   "cell_type": "code",
   "execution_count": 6,
   "metadata": {},
   "outputs": [],
   "source": [
    "rst = pyperclip.paste()\n",
    "pyperclip.copy('<span class=\"high\">'+rst+'</span>')"
   ]
  },
  {
   "cell_type": "code",
   "execution_count": 20,
   "metadata": {},
   "outputs": [],
   "source": [
    "rst = pyperclip.paste()\n",
    "pyperclip.copy('`r me.hi(\"'+rst+'\")`')"
   ]
  },
  {
   "cell_type": "code",
   "execution_count": 32,
   "metadata": {},
   "outputs": [],
   "source": [
    "rst = pyperclip.paste()\n",
    "pyperclip.copy(rst.replace('{','(').replace('}',')'))"
   ]
  },
  {
   "cell_type": "code",
   "execution_count": 39,
   "metadata": {},
   "outputs": [],
   "source": [
    "rst = pyperclip.paste()\n",
    "pyperclip.copy(rst.replace('{','[').replace('}',']'))"
   ]
  },
  {
   "cell_type": "markdown",
   "metadata": {},
   "source": [
    "## Reg-ex\n",
    "1. https://stackoverflow.com/questions/32680030/match-text-between-two-strings-with-regular-expression"
   ]
  },
  {
   "cell_type": "code",
   "execution_count": 105,
   "metadata": {},
   "outputs": [
    {
     "ename": "AttributeError",
     "evalue": "'NoneType' object has no attribute 'group'",
     "output_type": "error",
     "traceback": [
      "\u001b[0;31m---------------------------------------------------------------------------\u001b[0m",
      "\u001b[0;31mAttributeError\u001b[0m                            Traceback (most recent call last)",
      "\u001b[0;32m<ipython-input-105-7670a24f9c75>\u001b[0m in \u001b[0;36m<module>\u001b[0;34m()\u001b[0m\n\u001b[1;32m      1\u001b[0m \u001b[0ms\u001b[0m \u001b[0;34m=\u001b[0m \u001b[0;34mr'\\beginPart 1. Part 2. Part 3 then more text\\end'\u001b[0m\u001b[0;34m\u001b[0m\u001b[0m\n\u001b[0;32m----> 2\u001b[0;31m \u001b[0mre\u001b[0m\u001b[0;34m.\u001b[0m\u001b[0msearch\u001b[0m\u001b[0;34m(\u001b[0m\u001b[0;34mr'\\\\begin(.*?)\\\\end'\u001b[0m\u001b[0;34m,\u001b[0m \u001b[0mtext\u001b[0m\u001b[0;34m)\u001b[0m\u001b[0;34m.\u001b[0m\u001b[0mgroup\u001b[0m\u001b[0;34m(\u001b[0m\u001b[0;36m1\u001b[0m\u001b[0;34m)\u001b[0m\u001b[0;34m\u001b[0m\u001b[0m\n\u001b[0m",
      "\u001b[0;31mAttributeError\u001b[0m: 'NoneType' object has no attribute 'group'"
     ]
    }
   ],
   "source": [
    "s = r'\\beginPart 1. Part 2. Part 3 then more text\\end'\n",
    "re.search(r'\\\\begin(.*?)\\\\end', text).group(1)"
   ]
  },
  {
   "cell_type": "markdown",
   "metadata": {},
   "source": [
    "# TOC"
   ]
  },
  {
   "cell_type": "code",
   "execution_count": null,
   "metadata": {},
   "outputs": [],
   "source": [
    "text = '''\n",
    "<!DOCTYPE html>\n",
    "\n",
    "<html xmlns=\"http://www.w3.org/1999/xhtml\">\n",
    "\n",
    "<head>\n",
    "\n",
    "<meta charset=\"utf-8\">\n",
    "<meta http-equiv=\"Content-Type\" content=\"text/html; charset=utf-8\" />\n",
    "<meta name=\"generator\" content=\"pandoc\" />\n",
    "<meta name=\"viewport\" content=\"width=device-width, initial-scale=1\">\n",
    "<meta property=\"og:title\" content=\"Atoms to Molecules\" />\n",
    "<meta property=\"og:type\" content=\"book\" />\n",
    "\n",
    "\n",
    "<meta property=\"og:description\" content=\"This is a minimal example of using the bookdown package to write\n",
    " a book. The output format for this example is bookdown::gitbook.\" />\n",
    "\n",
    "\n",
    "<meta name=\"author\" content=\"Chammika Udalagama\" />\n",
    "\n",
    "\n",
    "<script type=\"text/x-mathjax-config\">\n",
    "MathJax.Hub.Config({\n",
    "  TeX: { equationNumbers: { autoNumber: \"AMS\" } }\n",
    "});\n",
    "</script>\n",
    "  <script src=\"https://cdn.mathjax.org/mathjax/latest/MathJax.js?config=TeX-AMS_CHTML-full\" type=\"text/ja\n",
    "vascript\"></script>\n",
    "\n",
    "<meta name=\"description\" content=\"This is a minimal example of using the bookdown package to write a book\n",
    ". The output format for this example is bookdown::gitbook.\">\n",
    "\n",
    "<title>Atoms to Molecules</title>\n",
    "\n",
    "<link href=\"libs/tufte-css-2015.12.29/tufte-fonts.css\" rel=\"stylesheet\" />\n",
    "<link href=\"libs/tufte-css-2015.12.29/tufte-background.css\" rel=\"stylesheet\" />\n",
    "<link href=\"libs/tufte-css-2015.12.29/tufte-italics.css\" rel=\"stylesheet\" />\n",
    "<link href=\"libs/tufte-css-2015.12.29/tufte.css\" rel=\"stylesheet\" />\n",
    "<script src=\"https://hypothes.is/embed.js\" async></script>\n",
    "\n",
    "\n",
    "\n",
    "\n",
    "<link rel=\"stylesheet\" href=\"toc.css\" type=\"text/css\" />\n",
    "<link rel=\"stylesheet\" href=\"my-css.css\" type=\"text/css\" />\n",
    "\n",
    "</head>\n",
    "\n",
    "<body>\n",
    "'''"
   ]
  },
  {
   "cell_type": "code",
   "execution_count": 110,
   "metadata": {},
   "outputs": [
    {
     "data": {
      "image/png": "[encoded data removed]",
      "text/plain": [
       "<matplotlib.figure.Figure at 0x121de6cc0>"
      ]
     },
     "metadata": {},
     "output_type": "display_data"
    }
   ],
   "source": [
    "\n"
   ]
  },
  {
   "cell_type": "code",
   "execution_count": 87,
   "metadata": {},
   "outputs": [
    {
     "data": {
      "text/plain": [
       "array([1.        , 0.5       , 0.33333333, 0.25      , 0.2       ,\n",
       "       0.16666667, 0.14285714, 0.125     , 0.11111111])"
      ]
     },
     "execution_count": 87,
     "metadata": {},
     "output_type": "execute_result"
    }
   ],
   "source": []
  },
  {
   "cell_type": "code",
   "execution_count": null,
   "metadata": {},
   "outputs": [],
   "source": []
  }
 ],
 "metadata": {
  "kernelspec": {
   "display_name": "Python [default]",
   "language": "python",
   "name": "python3"
  },
  "language_info": {
   "codemirror_mode": {
    "name": "ipython",
    "version": 3
   },
   "file_extension": ".py",
   "mimetype": "text/x-python",
   "name": "python",
   "nbconvert_exporter": "python",
   "pygments_lexer": "ipython3",
   "version": "3.5.4"
  }
 },
 "nbformat": 4,
 "nbformat_minor": 2
}
